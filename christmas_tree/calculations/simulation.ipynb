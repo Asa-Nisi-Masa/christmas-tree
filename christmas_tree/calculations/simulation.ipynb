{
 "cells": [
  {
   "cell_type": "code",
   "execution_count": null,
   "metadata": {},
   "outputs": [],
   "source": [
    "import numpy as np\n",
    "from IPython.display import display\n",
    "import ipywidgets as widgets\n",
    "from utils_simulation import build_renderer_and_mats\n",
    "from christmas_tree.common.effects.rotating_quadrants import rotating_quadrants\n",
    "\n",
    "num_points = 250\n",
    "angle = 30 * np.pi / 180\n",
    "\n",
    "y = np.random.uniform(-1, 1, num_points)\n",
    "r = np.random.uniform(0, np.tan(angle) * (1 - y), num_points)\n",
    "phi = np.random.uniform(0, 2 * np.pi, num_points)\n",
    "x = r * np.cos(phi)\n",
    "z = r * np.sin(phi)\n",
    "\n",
    "coords = np.vstack((x, y, z)).T\n",
    "coords = dict(enumerate(coords.tolist()))\n",
    "\n",
    "renderer, pixels = build_renderer_and_mats(coords)\n",
    "\n",
    "\n",
    "def update(_):\n",
    "    rotating_quadrants(pixels, coords)\n",
    "\n",
    "\n",
    "button = widgets.Button(description=\"Run\")\n",
    "button.on_click(update)\n",
    "\n",
    "display(button, renderer)"
   ]
  }
 ],
 "metadata": {
  "kernelspec": {
   "display_name": ".venv",
   "language": "python",
   "name": "python3"
  },
  "language_info": {
   "codemirror_mode": {
    "name": "ipython",
    "version": 3
   },
   "file_extension": ".py",
   "mimetype": "text/x-python",
   "name": "python",
   "nbconvert_exporter": "python",
   "pygments_lexer": "ipython3",
   "version": "3.8.10"
  },
  "orig_nbformat": 4
 },
 "nbformat": 4,
 "nbformat_minor": 2
}
