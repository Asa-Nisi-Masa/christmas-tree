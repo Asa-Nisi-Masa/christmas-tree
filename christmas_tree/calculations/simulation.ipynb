{
 "cells": [
  {
   "cell_type": "code",
   "execution_count": null,
   "metadata": {},
   "outputs": [],
   "source": [
    "import numpy as np\n",
    "import time\n",
    "from IPython.display import display\n",
    "import ipywidgets as widgets\n",
    "from utils_simulation import build_renderer_and_mats\n",
    "from christmas_tree.common.utils import effect\n",
    "\n",
    "num_points = 250\n",
    "angle = 30 * np.pi / 180\n",
    "\n",
    "y = np.random.uniform(-1, 1, num_points)\n",
    "r = np.random.uniform(0, np.tan(angle) * (1 - y), num_points)\n",
    "phi = np.random.uniform(0, 2 * np.pi, num_points)\n",
    "x = r * np.cos(phi)\n",
    "z = r * np.sin(phi)\n",
    "\n",
    "coords = np.vstack((x, y, z)).T\n",
    "coords = dict(enumerate(coords.tolist()))\n",
    "\n",
    "renderer, pixels = build_renderer_and_mats(coords)\n",
    "\n",
    "@effect(name=\"Expanding/shrinking sphere\")\n",
    "def expanding_ball(pixels, coords):\n",
    "    color = np.random.randint(0, 256, 3)\n",
    "    start = time.time()\n",
    "    while True:\n",
    "        t = time.time() - start\n",
    "        radius = np.abs(np.sin(t))\n",
    "\n",
    "        for i in coords:\n",
    "            x, y, z = coords[i]\n",
    "            if x**2 + y**2 + z**2 <= radius**2:\n",
    "                pixels[i] = tuple(color)\n",
    "            else:\n",
    "                pixels[i] = (0, 0, 0)\n",
    "\n",
    "        pixels.show()\n",
    "        time.sleep(0.01)\n",
    "\n",
    "\n",
    "def update(_):\n",
    "    expanding_ball(pixels, coords)\n",
    "\n",
    "\n",
    "button = widgets.Button(description=\"Run\")\n",
    "button.on_click(update)\n",
    "\n",
    "display(button, renderer)"
   ]
  },
  {
   "cell_type": "code",
   "execution_count": null,
   "metadata": {},
   "outputs": [],
   "source": []
  }
 ],
 "metadata": {
  "kernelspec": {
   "display_name": ".venv",
   "language": "python",
   "name": "python3"
  },
  "language_info": {
   "codemirror_mode": {
    "name": "ipython",
    "version": 3
   },
   "file_extension": ".py",
   "mimetype": "text/x-python",
   "name": "python",
   "nbconvert_exporter": "python",
   "pygments_lexer": "ipython3",
   "version": "3.8.20"
  }
 },
 "nbformat": 4,
 "nbformat_minor": 4
}
